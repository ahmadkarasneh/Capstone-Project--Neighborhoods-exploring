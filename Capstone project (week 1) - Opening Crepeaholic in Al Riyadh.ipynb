{
 "cells": [
  {
   "cell_type": "markdown",
   "metadata": {},
   "source": [
    "# Capstone Project - The Battle of the Neighborhoods (Week 2)\n",
    "### Opening a new Crepe shop in Al Riyadh , KSA."
   ]
  },
  {
   "cell_type": "markdown",
   "metadata": {},
   "source": [
    "## Introduction: Business Problem"
   ]
  },
  {
   "cell_type": "markdown",
   "metadata": {},
   "source": [
    "In this project we aim to explore the idea of opening a new Crepes&Waffles shop in Al Riyadh,KSA .followed by recommendation of  the best location for it . Specifically, this report will be targeted to Crepeaholic chain that already has presence in Amman,Jordan and Abu Dhabi,UAE .I am a fan of this place and I personally know the owner . I suggested him the idea of the project and its expected outcomes . He is excited to extend the view and have some insights & observations.\n",
    "\n",
    "First , we would like to research the the demographics and financials aspects of KSA and Riyadh in particular .\n",
    "pursued by analysis of market growth (Resturants/cafes count during time) .if possible ,with intention to investigate the question of how many resturants/cafes were opened and closed in a short period of time .\n",
    "\n",
    "\n",
    "Since there are lots of restaurants&cafes in Al Riyadh we will try to detect locations that are not already crowded with restaurants/cafes but crowded with people. and As per the owner ; the focus shall be on family oriented areas and with a preference of a community aged between 16-35 years old \n",
    "We are also particularly interested in areas with no or few desserts&Cafe shops in vicinity. We would also prefer locations as close to city center as possible, considering all other conditions are met .\n"
   ]
  },
  {
   "cell_type": "markdown",
   "metadata": {},
   "source": [
    "## Data"
   ]
  },
  {
   "cell_type": "markdown",
   "metadata": {},
   "source": [
    "Based on definition of our business case, factors that will influence our decission are:\n",
    "\n",
    "* Number of current restaurants/cafes in Riyadh and each Neighborhood.\n",
    "* A time series that shows the growth of resturants/cafes In Riyadh and specifically the targeted kind of shops.\n",
    "* Demographics of each neighborhood .\n",
    "* investigate the number of resturants and cafes that were opened and closed in the period of  2017-2021.\n",
    "* Distance of neighborhood from city center.\n",
    "* Top 5 venue categories in each neighboorhood and its corrosponded \n",
    "\n",
    "\n",
    "\n",
    "Data Needed  :\n",
    "\n",
    "\n",
    "* List of Riyadh's Neighborhoods.\n",
    "* Demographics tables about Riyadh .\n",
    "* Foursquare API location data.\n",
    "* If available , customer reviews and rates for each venue in Foursquare  data. \n",
    "* If available , foot traffic and check-ins details . \n",
    "* Financial details of KSA and Riyadh \n",
    "\n",
    "\n",
    "\n",
    "\n"
   ]
  },
  {
   "cell_type": "code",
   "execution_count": null,
   "metadata": {},
   "outputs": [],
   "source": []
  },
  {
   "cell_type": "code",
   "execution_count": null,
   "metadata": {},
   "outputs": [],
   "source": []
  }
 ],
 "metadata": {
  "kernelspec": {
   "display_name": "Python 3",
   "language": "python",
   "name": "python3"
  },
  "language_info": {
   "codemirror_mode": {
    "name": "ipython",
    "version": 3
   },
   "file_extension": ".py",
   "mimetype": "text/x-python",
   "name": "python",
   "nbconvert_exporter": "python",
   "pygments_lexer": "ipython3",
   "version": "3.8.5"
  }
 },
 "nbformat": 4,
 "nbformat_minor": 4
}
